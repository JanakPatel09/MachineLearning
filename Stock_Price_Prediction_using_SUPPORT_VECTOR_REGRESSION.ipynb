{
  "nbformat": 4,
  "nbformat_minor": 0,
  "metadata": {
    "colab": {
      "provenance": [],
      "collapsed_sections": [],
      "authorship_tag": "ABX9TyP1X0nrZKVYC16hYKEPHi0+",
      "include_colab_link": true
    },
    "kernelspec": {
      "name": "python3",
      "display_name": "Python 3"
    },
    "language_info": {
      "name": "python"
    }
  },
  "cells": [
    {
      "cell_type": "markdown",
      "metadata": {
        "id": "view-in-github",
        "colab_type": "text"
      },
      "source": [
        "<a href=\"https://colab.research.google.com/github/JanakPatel09/MachineLearning/blob/main/Stock_Price_Prediction_using_SUPPORT_VECTOR_REGRESSION.ipynb\" target=\"_parent\"><img src=\"https://colab.research.google.com/assets/colab-badge.svg\" alt=\"Open In Colab\"/></a>"
      ]
    },
    {
      "cell_type": "markdown",
      "source": [
        "#Stock Price Prediction using SUPPORT VECTOR REGRESSION"
      ],
      "metadata": {
        "id": "ZC-vywdizxP2"
      }
    },
    {
      "cell_type": "code",
      "source": [
        "#Import Libraries\n",
        "import pandas as pd\n",
        "import numpy as np"
      ],
      "metadata": {
        "id": "5jWPolUBzzj5"
      },
      "execution_count": 15,
      "outputs": []
    },
    {
      "cell_type": "code",
      "source": [
        "#Load Dataset from Local Directory\n",
        "from google.colab import files\n",
        "uploaded = files.upload()"
      ],
      "metadata": {
        "colab": {
          "base_uri": "https://localhost:8080/",
          "height": 73
        },
        "id": "HiM8seBm0HUm",
        "outputId": "7b40260d-c52d-41f5-c59d-735604af9301"
      },
      "execution_count": 3,
      "outputs": [
        {
          "output_type": "display_data",
          "data": {
            "text/plain": [
              "<IPython.core.display.HTML object>"
            ],
            "text/html": [
              "\n",
              "     <input type=\"file\" id=\"files-b619f11c-b64c-4121-b546-72add52f78d8\" name=\"files[]\" multiple disabled\n",
              "        style=\"border:none\" />\n",
              "     <output id=\"result-b619f11c-b64c-4121-b546-72add52f78d8\">\n",
              "      Upload widget is only available when the cell has been executed in the\n",
              "      current browser session. Please rerun this cell to enable.\n",
              "      </output>\n",
              "      <script>// Copyright 2017 Google LLC\n",
              "//\n",
              "// Licensed under the Apache License, Version 2.0 (the \"License\");\n",
              "// you may not use this file except in compliance with the License.\n",
              "// You may obtain a copy of the License at\n",
              "//\n",
              "//      http://www.apache.org/licenses/LICENSE-2.0\n",
              "//\n",
              "// Unless required by applicable law or agreed to in writing, software\n",
              "// distributed under the License is distributed on an \"AS IS\" BASIS,\n",
              "// WITHOUT WARRANTIES OR CONDITIONS OF ANY KIND, either express or implied.\n",
              "// See the License for the specific language governing permissions and\n",
              "// limitations under the License.\n",
              "\n",
              "/**\n",
              " * @fileoverview Helpers for google.colab Python module.\n",
              " */\n",
              "(function(scope) {\n",
              "function span(text, styleAttributes = {}) {\n",
              "  const element = document.createElement('span');\n",
              "  element.textContent = text;\n",
              "  for (const key of Object.keys(styleAttributes)) {\n",
              "    element.style[key] = styleAttributes[key];\n",
              "  }\n",
              "  return element;\n",
              "}\n",
              "\n",
              "// Max number of bytes which will be uploaded at a time.\n",
              "const MAX_PAYLOAD_SIZE = 100 * 1024;\n",
              "\n",
              "function _uploadFiles(inputId, outputId) {\n",
              "  const steps = uploadFilesStep(inputId, outputId);\n",
              "  const outputElement = document.getElementById(outputId);\n",
              "  // Cache steps on the outputElement to make it available for the next call\n",
              "  // to uploadFilesContinue from Python.\n",
              "  outputElement.steps = steps;\n",
              "\n",
              "  return _uploadFilesContinue(outputId);\n",
              "}\n",
              "\n",
              "// This is roughly an async generator (not supported in the browser yet),\n",
              "// where there are multiple asynchronous steps and the Python side is going\n",
              "// to poll for completion of each step.\n",
              "// This uses a Promise to block the python side on completion of each step,\n",
              "// then passes the result of the previous step as the input to the next step.\n",
              "function _uploadFilesContinue(outputId) {\n",
              "  const outputElement = document.getElementById(outputId);\n",
              "  const steps = outputElement.steps;\n",
              "\n",
              "  const next = steps.next(outputElement.lastPromiseValue);\n",
              "  return Promise.resolve(next.value.promise).then((value) => {\n",
              "    // Cache the last promise value to make it available to the next\n",
              "    // step of the generator.\n",
              "    outputElement.lastPromiseValue = value;\n",
              "    return next.value.response;\n",
              "  });\n",
              "}\n",
              "\n",
              "/**\n",
              " * Generator function which is called between each async step of the upload\n",
              " * process.\n",
              " * @param {string} inputId Element ID of the input file picker element.\n",
              " * @param {string} outputId Element ID of the output display.\n",
              " * @return {!Iterable<!Object>} Iterable of next steps.\n",
              " */\n",
              "function* uploadFilesStep(inputId, outputId) {\n",
              "  const inputElement = document.getElementById(inputId);\n",
              "  inputElement.disabled = false;\n",
              "\n",
              "  const outputElement = document.getElementById(outputId);\n",
              "  outputElement.innerHTML = '';\n",
              "\n",
              "  const pickedPromise = new Promise((resolve) => {\n",
              "    inputElement.addEventListener('change', (e) => {\n",
              "      resolve(e.target.files);\n",
              "    });\n",
              "  });\n",
              "\n",
              "  const cancel = document.createElement('button');\n",
              "  inputElement.parentElement.appendChild(cancel);\n",
              "  cancel.textContent = 'Cancel upload';\n",
              "  const cancelPromise = new Promise((resolve) => {\n",
              "    cancel.onclick = () => {\n",
              "      resolve(null);\n",
              "    };\n",
              "  });\n",
              "\n",
              "  // Wait for the user to pick the files.\n",
              "  const files = yield {\n",
              "    promise: Promise.race([pickedPromise, cancelPromise]),\n",
              "    response: {\n",
              "      action: 'starting',\n",
              "    }\n",
              "  };\n",
              "\n",
              "  cancel.remove();\n",
              "\n",
              "  // Disable the input element since further picks are not allowed.\n",
              "  inputElement.disabled = true;\n",
              "\n",
              "  if (!files) {\n",
              "    return {\n",
              "      response: {\n",
              "        action: 'complete',\n",
              "      }\n",
              "    };\n",
              "  }\n",
              "\n",
              "  for (const file of files) {\n",
              "    const li = document.createElement('li');\n",
              "    li.append(span(file.name, {fontWeight: 'bold'}));\n",
              "    li.append(span(\n",
              "        `(${file.type || 'n/a'}) - ${file.size} bytes, ` +\n",
              "        `last modified: ${\n",
              "            file.lastModifiedDate ? file.lastModifiedDate.toLocaleDateString() :\n",
              "                                    'n/a'} - `));\n",
              "    const percent = span('0% done');\n",
              "    li.appendChild(percent);\n",
              "\n",
              "    outputElement.appendChild(li);\n",
              "\n",
              "    const fileDataPromise = new Promise((resolve) => {\n",
              "      const reader = new FileReader();\n",
              "      reader.onload = (e) => {\n",
              "        resolve(e.target.result);\n",
              "      };\n",
              "      reader.readAsArrayBuffer(file);\n",
              "    });\n",
              "    // Wait for the data to be ready.\n",
              "    let fileData = yield {\n",
              "      promise: fileDataPromise,\n",
              "      response: {\n",
              "        action: 'continue',\n",
              "      }\n",
              "    };\n",
              "\n",
              "    // Use a chunked sending to avoid message size limits. See b/62115660.\n",
              "    let position = 0;\n",
              "    do {\n",
              "      const length = Math.min(fileData.byteLength - position, MAX_PAYLOAD_SIZE);\n",
              "      const chunk = new Uint8Array(fileData, position, length);\n",
              "      position += length;\n",
              "\n",
              "      const base64 = btoa(String.fromCharCode.apply(null, chunk));\n",
              "      yield {\n",
              "        response: {\n",
              "          action: 'append',\n",
              "          file: file.name,\n",
              "          data: base64,\n",
              "        },\n",
              "      };\n",
              "\n",
              "      let percentDone = fileData.byteLength === 0 ?\n",
              "          100 :\n",
              "          Math.round((position / fileData.byteLength) * 100);\n",
              "      percent.textContent = `${percentDone}% done`;\n",
              "\n",
              "    } while (position < fileData.byteLength);\n",
              "  }\n",
              "\n",
              "  // All done.\n",
              "  yield {\n",
              "    response: {\n",
              "      action: 'complete',\n",
              "    }\n",
              "  };\n",
              "}\n",
              "\n",
              "scope.google = scope.google || {};\n",
              "scope.google.colab = scope.google.colab || {};\n",
              "scope.google.colab._files = {\n",
              "  _uploadFiles,\n",
              "  _uploadFilesContinue,\n",
              "};\n",
              "})(self);\n",
              "</script> "
            ]
          },
          "metadata": {}
        },
        {
          "output_type": "stream",
          "name": "stdout",
          "text": [
            "Saving data.csv to data.csv\n"
          ]
        }
      ]
    },
    {
      "cell_type": "code",
      "source": [
        "#Load Dataset & Summary\n",
        "dataset = pd.read_csv('data.csv')\n",
        "print(dataset.shape)\n",
        "print(dataset.head())"
      ],
      "metadata": {
        "colab": {
          "base_uri": "https://localhost:8080/"
        },
        "id": "DNmz7kV60K51",
        "outputId": "d7c430c2-d1f3-456b-abc3-c90234f059bd"
      },
      "execution_count": 16,
      "outputs": [
        {
          "output_type": "stream",
          "name": "stdout",
          "text": [
            "(94, 2)\n",
            "            x           y\n",
            "0  168.181818  160.840244\n",
            "1  187.878788  159.413657\n",
            "2  207.575758  157.136809\n",
            "3  227.272727  159.357847\n",
            "4  246.969697  157.542862\n"
          ]
        }
      ]
    },
    {
      "cell_type": "code",
      "source": [
        "#Segregate Dataset into Input X & Output Y\n",
        "X = dataset.iloc[:,:-1].values\n",
        "print(X)\n",
        "Y = dataset.iloc[:,-1].values\n",
        "print(Y)"
      ],
      "metadata": {
        "colab": {
          "base_uri": "https://localhost:8080/"
        },
        "id": "oNxq4_5e0RFU",
        "outputId": "88646b87-e82f-40d4-a11b-1dc40d23892c"
      },
      "execution_count": 17,
      "outputs": [
        {
          "output_type": "stream",
          "name": "stdout",
          "text": [
            "[[ 168.18181818]\n",
            " [ 187.87878788]\n",
            " [ 207.57575758]\n",
            " [ 227.27272727]\n",
            " [ 246.96969697]\n",
            " [ 266.66666667]\n",
            " [ 286.36363636]\n",
            " [ 306.06060606]\n",
            " [ 325.75757576]\n",
            " [ 345.45454545]\n",
            " [ 365.15151515]\n",
            " [ 384.84848485]\n",
            " [ 404.54545455]\n",
            " [ 424.24242424]\n",
            " [ 443.93939394]\n",
            " [ 463.63636364]\n",
            " [ 483.33333333]\n",
            " [ 503.03030303]\n",
            " [ 522.72727273]\n",
            " [ 542.42424242]\n",
            " [ 562.12121212]\n",
            " [ 581.81818182]\n",
            " [ 601.51515152]\n",
            " [ 621.21212121]\n",
            " [ 640.90909091]\n",
            " [ 660.60606061]\n",
            " [ 680.3030303 ]\n",
            " [ 700.        ]\n",
            " [ 719.6969697 ]\n",
            " [ 739.39393939]\n",
            " [ 759.09090909]\n",
            " [ 778.78787879]\n",
            " [ 798.48484848]\n",
            " [ 818.18181818]\n",
            " [ 837.87878788]\n",
            " [ 857.57575758]\n",
            " [ 877.27272727]\n",
            " [ 896.96969697]\n",
            " [ 916.66666667]\n",
            " [ 936.36363636]\n",
            " [ 956.06060606]\n",
            " [ 975.75757576]\n",
            " [ 995.45454545]\n",
            " [1015.15151515]\n",
            " [1034.84848485]\n",
            " [1054.54545455]\n",
            " [1074.24242424]\n",
            " [1093.93939394]\n",
            " [1113.63636364]\n",
            " [1133.33333333]\n",
            " [1153.03030303]\n",
            " [1172.72727273]\n",
            " [1192.42424242]\n",
            " [1212.12121212]\n",
            " [1231.81818182]\n",
            " [1251.51515152]\n",
            " [1271.21212121]\n",
            " [1290.90909091]\n",
            " [1310.60606061]\n",
            " [1330.3030303 ]\n",
            " [1350.        ]\n",
            " [1369.6969697 ]\n",
            " [1389.39393939]\n",
            " [1409.09090909]\n",
            " [1428.78787879]\n",
            " [1448.48484848]\n",
            " [1468.18181818]\n",
            " [1487.87878788]\n",
            " [1507.57575758]\n",
            " [1527.27272727]\n",
            " [1546.96969697]\n",
            " [1566.66666667]\n",
            " [1586.36363636]\n",
            " [1606.06060606]\n",
            " [1625.75757576]\n",
            " [1645.45454545]\n",
            " [1665.15151515]\n",
            " [1684.84848485]\n",
            " [1704.54545455]\n",
            " [1724.24242424]\n",
            " [1743.93939394]\n",
            " [1763.63636364]\n",
            " [1783.33333333]\n",
            " [1803.03030303]\n",
            " [1822.72727273]\n",
            " [1842.42424242]\n",
            " [1862.12121212]\n",
            " [1881.81818182]\n",
            " [1901.51515152]\n",
            " [1921.21212121]\n",
            " [1940.90909091]\n",
            " [1960.60606061]\n",
            " [1980.3030303 ]\n",
            " [2000.        ]]\n",
            "[160.84024381 159.41365734 157.1368088  159.35784736 157.54286158\n",
            " 157.73520716 159.34756091 155.23404557 155.80774009 158.3299704\n",
            " 157.62585291 160.47697951 158.22940639 157.41781684 163.37069148\n",
            " 160.18481104 160.96838974 158.18080666 160.13850728 161.6460876\n",
            " 159.31922497 162.56957785 160.81387414 161.62873371 161.20567768\n",
            " 166.31061698 162.77603585 160.88457814 164.84205952 160.95225209\n",
            " 164.00863628 159.86853854 161.32847639 164.57554065 165.85572104\n",
            " 164.91849414 164.54143071 164.36748958 162.20962269 163.92394795\n",
            " 164.63932852 167.87182021 166.64178203 162.62543484 166.99665279\n",
            " 165.77528998 165.38858024 168.16274652 169.19836268 169.19589357\n",
            " 165.85186798 167.10884798 168.58676929 170.07230238 167.35983334\n",
            " 168.14383356 166.49945126 166.51667766 170.73111225 172.01551036\n",
            " 169.35597976 171.70403549 170.61721144 168.80066958 171.01067\n",
            " 173.56092162 170.6101661  174.00807519 165.83626737 172.91653228\n",
            " 171.64379111 171.06865197 172.04715792 168.08546823 171.81823198\n",
            " 173.1687706  175.60730324 171.81194441 171.42846734 172.23891016\n",
            " 175.27019817 174.29386586 172.77381293 175.0568379  174.42142783\n",
            " 176.36153241 173.21710593 174.16285752 174.23093521 172.28509132\n",
            " 176.00133146 176.12817115 175.81325722 175.53082573]\n"
          ]
        }
      ]
    },
    {
      "cell_type": "code",
      "source": [
        "#Splitting Dataset for Traing and Testing Model\n",
        "from sklearn.model_selection import train_test_split\n",
        "x_train,x_test,y_train,y_test = train_test_split(X,Y,test_size=0.20,random_state=0)"
      ],
      "metadata": {
        "id": "vvaxqbvb55TU"
      },
      "execution_count": 18,
      "outputs": []
    },
    {
      "cell_type": "code",
      "source": [
        "#Training Dataset using Support Vector Regression\n",
        "from sklearn.svm import SVR\n",
        "model = SVR()\n",
        "model.fit(x_train,y_train)\n",
        "print(\"Training completed.\")"
      ],
      "metadata": {
        "colab": {
          "base_uri": "https://localhost:8080/"
        },
        "id": "4o7UqED27FuD",
        "outputId": "c577d63d-7df4-4558-cd6e-4af7be70e9f7"
      },
      "execution_count": 19,
      "outputs": [
        {
          "output_type": "stream",
          "name": "stdout",
          "text": [
            "Training completed.\n"
          ]
        }
      ]
    },
    {
      "cell_type": "code",
      "source": [
        "ypred = model.predict(x_test)\n",
        "\n",
        "from sklearn.metrics import r2_score, mean_squared_error\n",
        "mse = mean_squared_error(y_test,ypred)\n",
        "rmse = np.sqrt(mse)\n",
        "print(\"Root Mean Square Error:\", rmse)\n",
        "r2score = r2_score(y_test,ypred)\n",
        "print(\"R2Score\", r2score * 100)"
      ],
      "metadata": {
        "colab": {
          "base_uri": "https://localhost:8080/"
        },
        "id": "vMX31kFT72_q",
        "outputId": "08f827c2-a29d-4ca2-9439-06303263d61d"
      },
      "execution_count": 20,
      "outputs": [
        {
          "output_type": "stream",
          "name": "stdout",
          "text": [
            "Root Mean Square Error: 2.3594718844452056\n",
            "R2Score 86.64242653738367\n"
          ]
        }
      ]
    }
  ]
}